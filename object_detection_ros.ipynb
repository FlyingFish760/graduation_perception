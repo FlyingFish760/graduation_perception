{
 "cells": [
  {
   "cell_type": "code",
   "execution_count": 1,
   "id": "dec76352",
   "metadata": {},
   "outputs": [
    {
     "name": "stdout",
     "output_type": "stream",
     "text": [
      "\n",
      "image 1/1 D:\\HJY\\graduation_perception\\AMC_demo_data\\CameraSensor_1\\CameraSensor_1_00114.png: 480x640 1 speed limit 30, 1 speed limit 50, 76.5ms\n",
      "Speed: 6.1ms preprocess, 76.5ms inference, 114.5ms postprocess per image at shape (1, 3, 480, 640)\n"
     ]
    }
   ],
   "source": [
    "from ultralytics import YOLO\n",
    "\n",
    "model_path = r\"D:\\HJY\\UL_YOLO\\best.pt\"\n",
    "model = YOLO(model_path)\n",
    "img_path = \"D:\\HJY\\graduation_perception\\AMC_demo_data\\CameraSensor_1\\CameraSensor_1_00114.png\"\n",
    "# img_path = \"D:\\HJY\\graduation_perception\\AMC_demo_data\\CameraSensor_1\\CameraSensor_1_00144.png\"\n",
    "# img_path = r\"D:\\HJY\\untitled.png\"\n",
    "results = model(img_path)"
   ]
  },
  {
   "cell_type": "code",
   "execution_count": 2,
   "id": "32e9b452",
   "metadata": {},
   "outputs": [],
   "source": [
    "results[0].show()"
   ]
  },
  {
   "cell_type": "code",
   "execution_count": 55,
   "id": "d08f13b8",
   "metadata": {},
   "outputs": [
    {
     "data": {
      "text/plain": [
       "{0: 'traffic signal',\n",
       " 1: 'speed limit 20',\n",
       " 2: 'speed limit 30',\n",
       " 3: 'speed limit 50',\n",
       " 4: 'speed limit 60',\n",
       " 5: 'restriction ends 60',\n",
       " 6: 'speed limit 70',\n",
       " 7: 'restriction ends 70',\n",
       " 8: 'speed limit 80',\n",
       " 9: 'restriction ends 80',\n",
       " 10: 'speed limit 90',\n",
       " 11: 'restriction ends 90'}"
      ]
     },
     "execution_count": 55,
     "metadata": {},
     "output_type": "execute_result"
    }
   ],
   "source": [
    "results[0].names"
   ]
  },
  {
   "cell_type": "code",
   "execution_count": 23,
   "id": "3c057ad9",
   "metadata": {},
   "outputs": [
    {
     "name": "stdout",
     "output_type": "stream",
     "text": [
      "ultralytics.engine.results.Boxes object with attributes:\n",
      "\n",
      "cls: tensor([2.], device='cuda:0')\n",
      "conf: tensor([0.9711], device='cuda:0')\n",
      "data: tensor([[430.8383, 267.7735, 453.6630, 351.1183,   0.9711,   2.0000]], device='cuda:0')\n",
      "id: None\n",
      "is_track: False\n",
      "orig_shape: (600, 800)\n",
      "shape: torch.Size([1, 6])\n",
      "xywh: tensor([[442.2506, 309.4459,  22.8247,  83.3448]], device='cuda:0')\n",
      "xywhn: tensor([[0.5528, 0.5157, 0.0285, 0.1389]], device='cuda:0')\n",
      "xyxy: tensor([[430.8383, 267.7735, 453.6630, 351.1183]], device='cuda:0')\n",
      "xyxyn: tensor([[0.5385, 0.4463, 0.5671, 0.5852]], device='cuda:0')\n"
     ]
    }
   ],
   "source": [
    "# detection boxes\n",
    "boxes = results[0].boxes\n",
    "box = boxes[0]\n",
    "print(boxes[0])"
   ]
  },
  {
   "cell_type": "code",
   "execution_count": 28,
   "id": "591bdecc",
   "metadata": {},
   "outputs": [
    {
     "name": "stdout",
     "output_type": "stream",
     "text": [
      "[442.2506408691406, 309.4459228515625, 22.82470703125, 83.34481811523438]\n"
     ]
    }
   ],
   "source": [
    "# bbox\n",
    "xywh = box.xywh.squeeze().tolist()\n",
    "print(xywh)"
   ]
  },
  {
   "cell_type": "code",
   "execution_count": 38,
   "id": "218766d5",
   "metadata": {},
   "outputs": [
    {
     "data": {
      "text/plain": [
       "tensor(2, device='cuda:0')"
      ]
     },
     "execution_count": 38,
     "metadata": {},
     "output_type": "execute_result"
    }
   ],
   "source": [
    "# cls\n",
    "cls = box.cls.squeeze().to(int)\n",
    "cls"
   ]
  },
  {
   "cell_type": "code",
   "execution_count": 56,
   "id": "3961cf75",
   "metadata": {},
   "outputs": [
    {
     "data": {
      "text/plain": [
       "0.9710626006126404"
      ]
     },
     "execution_count": 56,
     "metadata": {},
     "output_type": "execute_result"
    }
   ],
   "source": [
    "# conf\n",
    "confs = box.conf.squeeze()\n",
    "float(confs)"
   ]
  },
  {
   "cell_type": "code",
   "execution_count": 14,
   "id": "3630acc0",
   "metadata": {},
   "outputs": [],
   "source": [
    "results[0].show()"
   ]
  },
  {
   "cell_type": "code",
   "execution_count": 53,
   "id": "49cd3dee",
   "metadata": {},
   "outputs": [
    {
     "name": "stdout",
     "output_type": "stream",
     "text": [
      "d_esti: 16.12487100103199\n",
      "d_true: 15.132745950421556\n"
     ]
    }
   ],
   "source": [
    "# Distance estiamtion\n",
    "import math\n",
    "H = 2.5\n",
    "h = 145.35\n",
    "\n",
    "image_height = 600\n",
    "sensor_height = 4.8\n",
    "vertical_mm_per_pixel = sensor_height / image_height\n",
    "f = 7.5\n",
    "# theta_y = math.radians(35.489)\n",
    "# fy = image_height / (2 * math.tan(theta_y / 2))\n",
    "# fy = 7.5e-3\n",
    "\n",
    "d_esti = f * H / (h * vertical_mm_per_pixel)\n",
    "\n",
    "car_pos = (0, 10)\n",
    "sign_pos = (15, 8)\n",
    "d_true = math.sqrt((car_pos[0] - sign_pos[0]) ** 2 + (car_pos[1] - sign_pos[1]) ** 2)\n",
    "\n",
    "print(\"d_esti:\", d_esti)\n",
    "print(\"d_true:\", d_true)"
   ]
  }
 ],
 "metadata": {
  "kernelspec": {
   "display_name": "TSD_ultra",
   "language": "python",
   "name": "python3"
  },
  "language_info": {
   "codemirror_mode": {
    "name": "ipython",
    "version": 3
   },
   "file_extension": ".py",
   "mimetype": "text/x-python",
   "name": "python",
   "nbconvert_exporter": "python",
   "pygments_lexer": "ipython3",
   "version": "3.11.11"
  }
 },
 "nbformat": 4,
 "nbformat_minor": 5
}
