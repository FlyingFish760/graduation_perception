{
 "cells": [
  {
   "cell_type": "code",
   "execution_count": 12,
   "id": "14dc28fe",
   "metadata": {},
   "outputs": [
    {
     "name": "stdout",
     "output_type": "stream",
     "text": [
      "Dataset split completed!\n"
     ]
    }
   ],
   "source": [
    "# Split the dataset into train/ val sets\n",
    "\n",
    "import os\n",
    "import random\n",
    "import shutil\n",
    "\n",
    "random.seed(123)\n",
    "\n",
    "# Set dirs\n",
    "dataset_dir = \"AMC_demo_data_new_dataset\"\n",
    "images_dir = os.path.join(dataset_dir, \"images\")\n",
    "labels_dir = os.path.join(dataset_dir, \"labels\")\n",
    "\n",
    "output_dir = 'AMC_train_val_dataset'  \n",
    "train_ratio = 0.7\n",
    "\n",
    "# Make dirs\n",
    "for split in ['train', 'val']:\n",
    "    os.makedirs(os.path.join(output_dir, split, 'images'), exist_ok=True)\n",
    "    os.makedirs(os.path.join(output_dir, split, 'labels'), exist_ok=True)\n",
    "\n",
    "# Get list of all image files\n",
    "image_files = [f for f in os.listdir(images_dir) if f.endswith('.png')]\n",
    "\n",
    "# Shuffle\n",
    "random.shuffle(image_files)\n",
    "\n",
    "# Split\n",
    "split_idx = int(len(image_files) * train_ratio)\n",
    "train_files = image_files[:split_idx]\n",
    "val_files = image_files[split_idx:]\n",
    "\n",
    "# Copy files\n",
    "for img_file in train_files:\n",
    "    label_file = os.path.splitext(img_file)[0] + '.txt' \n",
    "    # Copy image\n",
    "    shutil.copy(os.path.join(images_dir, img_file), os.path.join(output_dir, \"train\", 'images', img_file))\n",
    "    # Copy label\n",
    "    shutil.copy(os.path.join(labels_dir, label_file), os.path.join(output_dir, \"train\", 'labels', label_file))\n",
    "\n",
    "for img_file in val_files:\n",
    "    label_file = os.path.splitext(img_file)[0] + '.txt' \n",
    "    # Copy image\n",
    "    shutil.copy(os.path.join(images_dir, img_file), os.path.join(output_dir, \"val\", 'images', img_file))\n",
    "    # Copy label\n",
    "    shutil.copy(os.path.join(labels_dir, label_file), os.path.join(output_dir, \"val\", 'labels', label_file))\n",
    "\n",
    "print('Dataset split completed!')\n"
   ]
  }
 ],
 "metadata": {
  "kernelspec": {
   "display_name": "TSD_ultra",
   "language": "python",
   "name": "python3"
  },
  "language_info": {
   "codemirror_mode": {
    "name": "ipython",
    "version": 3
   },
   "file_extension": ".py",
   "mimetype": "text/x-python",
   "name": "python",
   "nbconvert_exporter": "python",
   "pygments_lexer": "ipython3",
   "version": "3.11.11"
  }
 },
 "nbformat": 4,
 "nbformat_minor": 5
}
