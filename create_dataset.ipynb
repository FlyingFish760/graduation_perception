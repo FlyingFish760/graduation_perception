{
 "cells": [
  {
   "cell_type": "markdown",
   "id": "bb5c65e6",
   "metadata": {},
   "source": [
    "## Create a dataset of images and labels"
   ]
  },
  {
   "cell_type": "code",
   "execution_count": 1,
   "id": "b7546313",
   "metadata": {},
   "outputs": [],
   "source": [
    "# Read ground truth data (mat file)\n",
    "import scipy\n",
    "import os\n",
    "\n",
    "data_folder = \"AMC_demo_data\"\n",
    "gt_data_path = os.path.join(data_folder, \"ground_truth.mat\")\n",
    "gt_data_mat = scipy.io.loadmat(gt_data_path)\n",
    "gt_data = gt_data_mat[\"gt_data\"]"
   ]
  },
  {
   "cell_type": "code",
   "execution_count": 2,
   "id": "e774a2eb",
   "metadata": {},
   "outputs": [],
   "source": [
    "# Separate the the gt_data by timestamps\n",
    "gt_data_timestamps = []\n",
    "\n",
    "timestamps = gt_data.shape[2]\n",
    "for t in range(timestamps):\n",
    "    gt_data_at_t = gt_data[:, :, t]\n",
    "    gt_data_timestamps.append(gt_data_at_t)"
   ]
  },
  {
   "cell_type": "code",
   "execution_count": 3,
   "id": "329c1dc3",
   "metadata": {},
   "outputs": [],
   "source": [
    "# Clean unrecognized objects (remove the entries whose axies 1 are all zeros)\n",
    "import numpy as np\n",
    "\n",
    "for t in range(len(gt_data_timestamps)):\n",
    "    gt_data_at_t = gt_data_timestamps[t]\n",
    "    mask = ~(gt_data_at_t == 0).all(axis=1)\n",
    "    gt_data_at_t = gt_data_at_t[mask]\n",
    "    # If no traffic sign detected, make the gt_data_at_t empty (reserve background samples)\n",
    "    if len(gt_data_at_t) == 0:\n",
    "        gt_data_at_t = []\n",
    "    gt_data_timestamps[t] = gt_data_at_t"
   ]
  },
  {
   "cell_type": "code",
   "execution_count": 4,
   "id": "76e4bb4c",
   "metadata": {},
   "outputs": [],
   "source": [
    "numid_to_classid = {\n",
    "    95: 0,\n",
    "    96: 1,\n",
    "    98: 2,\n",
    "    99: 3,\n",
    "    100: 2,\n",
    "    101: 1,\n",
    "    102: 3,\n",
    "    103: 2,\n",
    "    104: 2,\n",
    "    105: 3, \n",
    "    106: 1,\n",
    "    107: 1\n",
    "}    "
   ]
  },
  {
   "cell_type": "code",
   "execution_count": null,
   "id": "6ac3b6fa",
   "metadata": {},
   "outputs": [],
   "source": [
    "# Parse the Prescan gt data into YOLO gt format and save into \"labels\" folder\n",
    "IMAGE_WIDTH = 800\n",
    "IMAGE_HEIGHT = 600\n",
    "\n",
    "from utils_own import *\n",
    "import os\n",
    "\n",
    "import shutil\n",
    "\n",
    "label_dir = os.path.join(data_folder, \"labels\")\n",
    "if os.path.exists(label_dir):\n",
    "    shutil.rmtree(label_dir)\n",
    "os.makedirs(label_dir, exist_ok=True)\n",
    "\n",
    "for t in range(len(gt_data_timestamps)):\n",
    "    gt_data_at_t = gt_data_timestamps[t]\n",
    "    with open(label_dir + f\"\\{t:05}.txt\", \"a\") as file:\n",
    "        # Separate rows\n",
    "        for row in gt_data_at_t:\n",
    "            yolo_gt = convert_prescan_gt_to_yolo_gt(row, IMAGE_WIDTH, IMAGE_HEIGHT, numid_to_classid, gtsdb_format=False)\n",
    "            file.write(yolo_gt)"
   ]
  },
  {
   "cell_type": "code",
   "execution_count": null,
   "id": "0a86862c",
   "metadata": {},
   "outputs": [
    {
     "name": "stdout",
     "output_type": "stream",
     "text": [
      "439 259 468 364\n",
      "414 281 428 330\n"
     ]
    }
   ],
   "source": [
    "# # Sanity check of generated \"labels\"\n",
    "# import cv2\n",
    "\n",
    "# image_width = 800\n",
    "# image_height = 600\n",
    "\n",
    "# image = cv2.imread(r\"D:\\HJY\\graduation_perception\\AMC_demo_data\\CameraSensor_1\\CameraSensor_1_00015.png\")\n",
    "# label_path = r\"D:\\HJY\\graduation_perception\\AMC_demo_data\\labels\\00015.txt\"\n",
    "# # image = cv2.imread(r\"D:\\HJY\\graduation_perception\\TSR_1_data\\CameraSensor_1\\00458.png\")\n",
    "# # label_path = r\"D:\\HJY\\graduation_perception\\TSR_1_data\\labels\\00458.txt\"\n",
    "\n",
    "# with open(label_path, \"r\") as f:\n",
    "#     for row in f:\n",
    "#         _, x, y, w, h = map(float, row.split())\n",
    "#         # Conver xywh to pixel values\n",
    "#         x = x * image_width\n",
    "#         y = y * image_height\n",
    "#         w = w * image_width\n",
    "#         h = h * image_height\n",
    "\n",
    "#         # y = image_height - y\n",
    "#         # Convert xywh to ltrb\n",
    "#         left = int(x  - w / 2)\n",
    "#         top = int(y - h / 2)\n",
    "#         right = int(x + w / 2)\n",
    "#         bottom = int(y + h / 2)\n",
    "#         # bottom = int(top + (bottom - top) * (0.6 / (0.6 + 1.6)))\n",
    "\n",
    "#         print(left, top, right, bottom)\n",
    "#         # Draw the bounding box (color: green, thickness: 2)\n",
    "#         cv2.rectangle(image, (left, bottom), (right, top), (0, 255, 0), 2)\n",
    "\n",
    "# # Show the image with bounding box\n",
    "# cv2.imshow(\"Image with Bounding Box\", image)\n",
    "# cv2.waitKey(0)\n",
    "# cv2.destroyAllWindows()\n"
   ]
  },
  {
   "cell_type": "code",
   "execution_count": 3,
   "id": "e484292f",
   "metadata": {},
   "outputs": [],
   "source": [
    "# Change image file names to the same as the label file names\n",
    "import os\n",
    "\n",
    "img_folder = os.path.join(data_folder, \"CameraSensor_1\")\n",
    "label_folder = os.path.join(data_folder, \"labels\")\n",
    "label_file_names = os.listdir(label_folder)\n",
    "img_file_names = os.listdir(img_folder)\n",
    "\n",
    "# Delete the non-image file in the image folder\n",
    "for file_name in img_file_names:\n",
    "    if not file_name.endswith(\".png\"):\n",
    "        file_to_delete = os.path.join(img_folder, file_name)\n",
    "        os.remove(file_to_delete)\n",
    "        break\n",
    "\n",
    "img_file_names = os.listdir(img_folder)\n",
    "# Delete the last image if the images have one more extra than the labels\n",
    "if len(img_file_names) > len(label_file_names):\n",
    "    img_to_delete = img_file_names[-1]\n",
    "    img_to_delete_path = os.path.join(img_folder, img_to_delete)\n",
    "    os.remove(img_to_delete_path)\n",
    "\n",
    "for ind, img_file_name in enumerate(os.listdir(img_folder)):\n",
    "    img_path = os.path.join(img_folder, img_file_name)\n",
    "\n",
    "    # Get the corresponding label file name\n",
    "    label_file_name = label_file_names[ind]\n",
    "\n",
    "    # Make the new img file name (replace .txt with .png)\n",
    "    new_file_name = label_file_name.replace(\".txt\", \".png\")\n",
    "    new_img_path = os.path.join(img_folder, new_file_name)\n",
    "\n",
    "    # Rename the image file\n",
    "    os.rename(img_path, new_img_path)\n"
   ]
  },
  {
   "cell_type": "markdown",
   "id": "90dacb5b",
   "metadata": {},
   "source": [
    "## Create a new dataset using frame skipping"
   ]
  },
  {
   "cell_type": "code",
   "execution_count": 12,
   "id": "263a399a",
   "metadata": {},
   "outputs": [],
   "source": [
    "data_folder = \"AMC_demo_data\""
   ]
  },
  {
   "cell_type": "code",
   "execution_count": 13,
   "id": "742ade10",
   "metadata": {},
   "outputs": [],
   "source": [
    "# Frame skipping to create a new dataset\n",
    "import shutil\n",
    "\n",
    "num_frame_skip = 3\n",
    "\n",
    "new_dataset_dir = data_folder + \"_new_dataset\"\n",
    "new_image_folder = os.path.join(new_dataset_dir, \"images\")\n",
    "new_label_folder = os.path.join(new_dataset_dir, \"labels\")\n",
    "os.makedirs(new_dataset_dir, exist_ok=True)\n",
    "os.makedirs(new_image_folder, exist_ok=True)\n",
    "os.makedirs(new_label_folder, exist_ok=True)\n",
    "\n",
    "# Get the original image and label file names\n",
    "img_file_names = os.listdir(img_folder)\n",
    "label_file_names = os.listdir(label_folder)\n",
    "\n",
    "ind = 0\n",
    "while ind < len(img_file_names):\n",
    "    # Get the original image and label path\n",
    "    img_path = os.path.join(img_folder, img_file_names[ind])\n",
    "    label_path = os.path.join(label_folder, label_file_names[ind])\n",
    "\n",
    "    # Copy the image and label file to the new folders\n",
    "    new_img_path = os.path.join(new_image_folder, img_file_names[ind])\n",
    "    new_label_path = os.path.join(new_label_folder, label_file_names[ind])\n",
    "    shutil.copy(img_path, new_img_path)\n",
    "    shutil.copy(label_path, new_label_path)\n",
    "\n",
    "    ind += num_frame_skip"
   ]
  }
 ],
 "metadata": {
  "kernelspec": {
   "display_name": "TSD_ultra",
   "language": "python",
   "name": "python3"
  },
  "language_info": {
   "codemirror_mode": {
    "name": "ipython",
    "version": 3
   },
   "file_extension": ".py",
   "mimetype": "text/x-python",
   "name": "python",
   "nbconvert_exporter": "python",
   "pygments_lexer": "ipython3",
   "version": "3.11.11"
  }
 },
 "nbformat": 4,
 "nbformat_minor": 5
}
