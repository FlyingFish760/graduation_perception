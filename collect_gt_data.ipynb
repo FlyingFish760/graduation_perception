{
 "cells": [
  {
   "cell_type": "code",
   "execution_count": 1,
   "id": "b7546313",
   "metadata": {},
   "outputs": [],
   "source": [
    "# Read a mat file\n",
    "import scipy\n",
    "import os\n",
    "\n",
    "data_folder = \"TSR_1_data\"\n",
    "gt_data_path = os.path.join(data_folder, \"ground_truth.mat\")\n",
    "gt_data_mat = scipy.io.loadmat(gt_data_path)\n",
    "gt_data = gt_data_mat[\"ground_truth\"]"
   ]
  },
  {
   "cell_type": "code",
   "execution_count": 2,
   "id": "e774a2eb",
   "metadata": {},
   "outputs": [],
   "source": [
    "# Separate the the gt_data by timestamps\n",
    "gt_data_timestamps = []\n",
    "\n",
    "timestamps = gt_data.shape[2]\n",
    "for t in range(timestamps):\n",
    "    gt_data_at_t = gt_data[:, :, t]\n",
    "    gt_data_timestamps.append(gt_data_at_t)"
   ]
  },
  {
   "cell_type": "code",
   "execution_count": 3,
   "id": "329c1dc3",
   "metadata": {},
   "outputs": [],
   "source": [
    "# Clean unrecognized objects: remove the entries whose axies 1 are all zeros\n",
    "import numpy as np\n",
    "\n",
    "for t in range(len(gt_data_timestamps)):\n",
    "    gt_data_at_t = gt_data_timestamps[t]\n",
    "    mask = ~(gt_data_at_t == 0).all(axis=1)\n",
    "    gt_data_at_t = gt_data_at_t[mask]\n",
    "    # If no traffic sign detected, make the gt_data_at_t empty (reserve negative samples)\n",
    "    if len(gt_data_at_t) == 0:\n",
    "        gt_data_at_t = []\n",
    "    gt_data_timestamps[t] = gt_data_at_t"
   ]
  },
  {
   "cell_type": "code",
   "execution_count": 4,
   "id": "baa56f86",
   "metadata": {},
   "outputs": [],
   "source": [
    "# # sanity check of convert_prescan_gt_to_yolo_gt()\n",
    "# from utils_own import *\n",
    "\n",
    "# # Image dimensions (example)\n",
    "# image_width = 800\n",
    "# image_height = 600\n",
    "\n",
    "\n",
    "# # prescan_gt = np.array([10, 0.748750, 0.553333, 0.085000, 0.470000])\n",
    "# # yolo_gt = convert_prescan_gt_to_yolo_gt(prescan_gt, image_width, image_height)\n",
    "\n",
    "# import cv2\n",
    "\n",
    "\n",
    "\n",
    "# # Normalized bounding box (x, y, w, h)\n",
    "# # _, x, y, w, h = yolo_gt\n",
    "# _, x, y, w, h = [10, 0.748750, 0.553333, 0.085000, 0.470000]\n",
    "# # Conver xywh to pixel values\n",
    "# x = x * image_width\n",
    "# y = y * image_height\n",
    "# w = w * image_width\n",
    "# h = h * image_height\n",
    "\n",
    "# # y = image_height - y\n",
    "# # Convert normalized coordinates to pixel values\n",
    "# left = int(x  - w / 2)\n",
    "# top = int(y - h / 2)\n",
    "# right = int(x + w / 2)\n",
    "# bottom = int(y + h / 2)\n",
    "\n",
    "# # left = 0\n",
    "# # top = 0\n",
    "# # right = 100\n",
    "# # bottom = 100\n",
    "# # print(right, left, top, bottom)\n",
    "\n",
    "# # Load an image (example)\n",
    "# # image = cv2.imread(r\"D:\\PreScan2302_Experiments\\PrescanDemoAMC_HJY\\Results\\SimResults_20250423_153743\\CameraSensor_1\\CameraSensor_1_00000.png\")\n",
    "# image = cv2.imread(r\"D:\\HJY\\Prescan_data_collecting\\CameraSensor_1\\00244.png\")\n",
    "# # image = cv2.imread(r\"D:\\PreScan2302_Experiments\\PrescanDemoAMC_HJY\\Results\\SimResults_20250428_153917\\CameraSensor_1\\CameraSensor_1_00245.png\")\n",
    "\n",
    "\n",
    "# # Draw the bounding box (color: green, thickness: 2)\n",
    "# cv2.rectangle(image, (left, bottom), (right, top), (0, 255, 0), 2)\n",
    "\n",
    "# # Show the image with bounding box\n",
    "# cv2.imshow(\"Image with Bounding Box\", image)\n",
    "# cv2.waitKey(0)\n",
    "# cv2.destroyAllWindows()\n",
    "\n"
   ]
  },
  {
   "cell_type": "code",
   "execution_count": 5,
   "id": "7b608597",
   "metadata": {},
   "outputs": [],
   "source": [
    "# Make a dictionary mapping numeric ids (of Prescan) to class ids (yolo format)\n",
    "\n",
    "# Load from mat file\n",
    "numid_to_classid_mat = scipy.io.loadmat(\"numid_to_classid.mat\")\n",
    "\n",
    "numid_to_classid_array = numid_to_classid_mat['numid_to_classid_mat']\n",
    "numid_to_classid = {}\n",
    "for i in range(len(numid_to_classid_array)):\n",
    "    numid = numid_to_classid_array[i, 0]\n",
    "    classid = numid_to_classid_array[i, 1]\n",
    "    numid_to_classid[numid] = classid"
   ]
  },
  {
   "cell_type": "code",
   "execution_count": 6,
   "id": "0df55a53",
   "metadata": {},
   "outputs": [],
   "source": [
    "# Filter out the traffic signs, which will only be used\n",
    "traffic_numids = list(numid_to_classid.keys())\n",
    "\n",
    "for t in range(len(gt_data_timestamps)):\n",
    "    gt_data_at_t = gt_data_timestamps[t]\n",
    "    mask = np.isin(gt_data_at_t[:, 0], traffic_numids)\n",
    "    gt_data_at_t=  gt_data_at_t[mask]\n",
    "    if len(gt_data_at_t) == 0:\n",
    "        gt_data_at_t = []\n",
    "    gt_data_timestamps[t] = gt_data_at_t\n",
    "        "
   ]
  },
  {
   "cell_type": "code",
   "execution_count": null,
   "id": "6ac3b6fa",
   "metadata": {},
   "outputs": [],
   "source": [
    "# Parse the Prescan gt data into YOLO gt format and save into \"labels\" folder\n",
    "IMAGE_WIDTH = 800\n",
    "IMAGE_HEIGHT = 600\n",
    "\n",
    "from utils_own import *\n",
    "import os\n",
    "\n",
    "import shutil\n",
    "\n",
    "# if os.path.exists(\"labels\"): shutil.rmtree(\"labels\")\n",
    "os.makedirs(\"labels\", exist_ok=True)\n",
    "# os.makedirs(\"labels_gtsdb_format\", exist_ok=True)\n",
    "\n",
    "for t in range(len(gt_data_timestamps)):\n",
    "    gt_data_at_t = gt_data_timestamps[t]\n",
    "    with open(f\"labels/{t:05}.txt\", \"a\") as file:\n",
    "        # Separate rows\n",
    "        for row in gt_data_at_t:\n",
    "            yolo_gt = convert_prescan_gt_to_yolo_gt(row, IMAGE_WIDTH, IMAGE_HEIGHT, numid_to_classid, gtsdb_format=False)\n",
    "            file.write(yolo_gt)"
   ]
  },
  {
   "cell_type": "code",
   "execution_count": 3,
   "id": "0a86862c",
   "metadata": {},
   "outputs": [
    {
     "name": "stdout",
     "output_type": "stream",
     "text": [
      "250 278 264 327\n",
      "617 278 631 327\n",
      "469 291 474 308\n",
      "351 291 356 308\n",
      "371 292 374 298\n",
      "381 293 383 297\n",
      "301 296 302 297\n",
      "333 296 334 297\n",
      "347 296 348 297\n",
      "379 296 380 297\n",
      "154 296 155 300\n",
      "173 296 174 297\n",
      "200 296 201 297\n"
     ]
    }
   ],
   "source": [
    "# sanity check of generated \"labels\"\n",
    "import cv2\n",
    "\n",
    "image_width = 800\n",
    "image_height = 600\n",
    "\n",
    "image = cv2.imread(r\"D:\\HJY\\graduation_perception\\TSR_1_data\\CameraSensor_1\\00026.png\")\n",
    "label_path = r\"D:\\HJY\\graduation_perception\\labels\\00026.txt\"\n",
    "\n",
    "with open(label_path, \"r\") as f:\n",
    "    for row in f:\n",
    "        _, x, y, w, h = map(float, row.split())\n",
    "        # Conver xywh to pixel values\n",
    "        x = x * image_width\n",
    "        y = y * image_height\n",
    "        w = w * image_width\n",
    "        h = h * image_height\n",
    "\n",
    "        # y = image_height - y\n",
    "        # Convert xywh to ltrb\n",
    "        left = int(x  - w / 2)\n",
    "        top = int(y - h / 2)\n",
    "        right = int(x + w / 2)\n",
    "        bottom = int(y + h / 2)\n",
    "        # bottom = int(top + (bottom - top) * (0.6 / (0.6 + 1.6)))\n",
    "\n",
    "        print(left, top, right, bottom)\n",
    "        # Draw the bounding box (color: green, thickness: 2)\n",
    "        cv2.rectangle(image, (left, bottom), (right, top), (0, 255, 0), 2)\n",
    "\n",
    "# Show the image with bounding box\n",
    "cv2.imshow(\"Image with Bounding Box\", image)\n",
    "cv2.waitKey(0)\n",
    "cv2.destroyAllWindows()\n"
   ]
  },
  {
   "cell_type": "code",
   "execution_count": 1,
   "id": "e484292f",
   "metadata": {},
   "outputs": [],
   "source": [
    "# Change image file names to the same as the label file names\n",
    "import os\n",
    "\n",
    "img_folder = \"TSR_1_data\\CameraSensor_1\"\n",
    "label_folder = \"labels\"\n",
    "label_file_names = os.listdir(label_folder)\n",
    "img_file_names = os.listdir(img_folder)\n",
    "\n",
    "# Delete the non-image file in the image folder\n",
    "for file_name in img_file_names:\n",
    "    if not file_name.endswith(\".png\"):\n",
    "        file_to_delete = os.path.join(img_folder, file_name)\n",
    "        os.remove(file_to_delete)\n",
    "        break\n",
    "\n",
    "img_file_names = os.listdir(img_folder)\n",
    "# Delete the last image if the images have one more extra than the labels\n",
    "if len(img_file_names) > len(label_file_names):\n",
    "    img_to_delete = img_file_names[-1]\n",
    "    img_to_delete_path = os.path.join(img_folder, img_to_delete)\n",
    "    os.remove(img_to_delete_path)\n",
    "\n",
    "for ind, img_file_name in enumerate(os.listdir(img_folder)):\n",
    "    img_path = os.path.join(img_folder, img_file_name)\n",
    "\n",
    "    # Get the corresponding label file name\n",
    "    label_file_name = label_file_names[ind]\n",
    "\n",
    "    # Make the new img file name (replace .txt with .png)\n",
    "    new_file_name = label_file_name.replace(\".txt\", \".png\")\n",
    "    new_img_path = os.path.join(img_folder, new_file_name)\n",
    "\n",
    "    # Rename the image file\n",
    "    os.rename(img_path, new_img_path)\n"
   ]
  },
  {
   "cell_type": "code",
   "execution_count": null,
   "id": "135c6e5a",
   "metadata": {},
   "outputs": [
    {
     "name": "stdout",
     "output_type": "stream",
     "text": [
      "Ultralytics 8.3.110  Python-3.8.7 torch-2.4.1+cpu CPU (Intel Core(TM) i9-10980XE 3.00GHz)\n",
      "YOLO11s summary (fused): 100 layers, 9,429,441 parameters, 0 gradients, 21.4 GFLOPs\n",
      "\u001b[34m\u001b[1mval: \u001b[0mFast image access  (ping: 0.10.0 ms, read: 61.98.4 MB/s, size: 508.5 KB)\n"
     ]
    },
    {
     "name": "stderr",
     "output_type": "stream",
     "text": [
      "\u001b[34m\u001b[1mval: \u001b[0mScanning D:\\HJY\\Prescan_data_collecting\\dataset\\val\\labels... 300 images, 128 backgrounds, 0 corrupt: 100%|██████████| 300/300 [00:00<00:00, 431.13it/s]\n"
     ]
    },
    {
     "name": "stdout",
     "output_type": "stream",
     "text": [
      "\u001b[34m\u001b[1mval: \u001b[0mNew cache created: D:\\HJY\\Prescan_data_collecting\\dataset\\val\\labels.cache\n"
     ]
    },
    {
     "name": "stderr",
     "output_type": "stream",
     "text": [
      "                 Class     Images  Instances      Box(P          R      mAP50  mAP50-95): 100%|██████████| 19/19 [00:17<00:00,  1.11it/s]\n"
     ]
    },
    {
     "name": "stdout",
     "output_type": "stream",
     "text": [
      "                   all        300        492          0          0          0          0\n",
      "        speed limit 20        106        106          0          0          0          0\n",
      "        speed limit 30        120        120          0          0          0          0\n",
      "        speed limit 50        136        136          0          0          0          0\n",
      "        speed limit 60         31         31          0          0          0          0\n",
      "        traffic signal         99         99          0          0          0          0\n",
      "Speed: 0.4ms preprocess, 45.4ms inference, 0.0ms loss, 0.3ms postprocess per image\n",
      "Results saved to \u001b[1mruns\\detect\\val6\u001b[0m\n"
     ]
    }
   ],
   "source": [
    "# # Validate the yolo model performance on the collected dataset\n",
    "# from ultralytics import YOLO\n",
    "\n",
    "# model_path = r\"D:\\HJY\\UL_YOLO\\last.pt\"\n",
    "# model = YOLO(model_path)\n",
    "# metrics = model.val(data=\"D:\\HJY\\Prescan_data_collecting\\dataset\\prescan.yaml\")"
   ]
  }
 ],
 "metadata": {
  "kernelspec": {
   "display_name": "TSD_ultra",
   "language": "python",
   "name": "python3"
  },
  "language_info": {
   "codemirror_mode": {
    "name": "ipython",
    "version": 3
   },
   "file_extension": ".py",
   "mimetype": "text/x-python",
   "name": "python",
   "nbconvert_exporter": "python",
   "pygments_lexer": "ipython3",
   "version": "3.11.11"
  }
 },
 "nbformat": 4,
 "nbformat_minor": 5
}
